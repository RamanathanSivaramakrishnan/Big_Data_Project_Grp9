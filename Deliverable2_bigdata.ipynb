{
 "cells": [
  {
   "cell_type": "code",
   "execution_count": 36,
   "id": "421d67d1",
   "metadata": {},
   "outputs": [],
   "source": [
    "#import libraries\n",
    "import pandas as pd\n",
    "import seaborn as sns\n",
    "import matplotlib.pyplot as plt"
   ]
  },
  {
   "cell_type": "code",
   "execution_count": 37,
   "id": "aa2a7150",
   "metadata": {},
   "outputs": [],
   "source": [
    "#Read the csv file with past 5 years data\n",
    "crimedata=pd.read_csv('/home/ec2-user/crimedatafinal.csv')"
   ]
  },
  {
   "cell_type": "code",
   "execution_count": 38,
   "id": "eed0ce33",
   "metadata": {},
   "outputs": [
    {
     "data": {
      "text/plain": [
       "2018    23678\n",
       "2019    23043\n",
       "2020    18739\n",
       "2021    18179\n",
       "2022    16361\n",
       "Name: Year, dtype: int64"
      ]
     },
     "execution_count": 38,
     "metadata": {},
     "output_type": "execute_result"
    }
   ],
   "source": [
    "#Sampling across equal proportions for all the years\n",
    "crimedata['Year'].value_counts()"
   ]
  },
  {
   "cell_type": "raw",
   "id": "7c7dc0ef",
   "metadata": {},
   "source": [
    "# Understanding the dataset"
   ]
  },
  {
   "cell_type": "code",
   "execution_count": 39,
   "id": "2f2fe022",
   "metadata": {},
   "outputs": [
    {
     "data": {
      "text/plain": [
       "Unnamed: 0               85488\n",
       "index                   100000\n",
       "ID                      100000\n",
       "Case Number              99999\n",
       "Date                     84849\n",
       "Block                    22716\n",
       "IUCR                       297\n",
       "Primary Type                32\n",
       "Description                392\n",
       "Location Description       160\n",
       "Arrest                       2\n",
       "Domestic                     2\n",
       "Beat                       274\n",
       "District                    23\n",
       "Ward                        50\n",
       "Community Area              77\n",
       "FBI Code                    26\n",
       "X Coordinate             37372\n",
       "Y Coordinate             46655\n",
       "Year                         5\n",
       "Updated On                2856\n",
       "Latitude                 65141\n",
       "Longitude                65129\n",
       "Location                 65149\n",
       "dtype: int64"
      ]
     },
     "execution_count": 39,
     "metadata": {},
     "output_type": "execute_result"
    }
   ],
   "source": [
    "#Understanding the columns of the dataset\n",
    "crimedata.describe()\n",
    "\n",
    "#Checking out unique values across all the data\n",
    "uniqueValues = crimedata.nunique()\n",
    "uniqueValues"
   ]
  },
  {
   "cell_type": "code",
   "execution_count": 40,
   "id": "55f307a4",
   "metadata": {},
   "outputs": [
    {
     "name": "stdout",
     "output_type": "stream",
     "text": [
      "<class 'pandas.core.frame.DataFrame'>\n",
      "RangeIndex: 100000 entries, 0 to 99999\n",
      "Data columns (total 24 columns):\n",
      " #   Column                Non-Null Count   Dtype  \n",
      "---  ------                --------------   -----  \n",
      " 0   Unnamed: 0            100000 non-null  int64  \n",
      " 1   index                 100000 non-null  int64  \n",
      " 2   ID                    100000 non-null  int64  \n",
      " 3   Case Number           100000 non-null  object \n",
      " 4   Date                  100000 non-null  object \n",
      " 5   Block                 100000 non-null  object \n",
      " 6   IUCR                  100000 non-null  object \n",
      " 7   Primary Type          100000 non-null  object \n",
      " 8   Description           100000 non-null  object \n",
      " 9   Location Description  99553 non-null   object \n",
      " 10  Arrest                100000 non-null  bool   \n",
      " 11  Domestic              100000 non-null  bool   \n",
      " 12  Beat                  100000 non-null  int64  \n",
      " 13  District              100000 non-null  float64\n",
      " 14  Ward                  99997 non-null   float64\n",
      " 15  Community Area        100000 non-null  float64\n",
      " 16  FBI Code              100000 non-null  object \n",
      " 17  X Coordinate          98521 non-null   float64\n",
      " 18  Y Coordinate          98521 non-null   float64\n",
      " 19  Year                  100000 non-null  int64  \n",
      " 20  Updated On            100000 non-null  object \n",
      " 21  Latitude              98521 non-null   float64\n",
      " 22  Longitude             98521 non-null   float64\n",
      " 23  Location              98521 non-null   object \n",
      "dtypes: bool(2), float64(7), int64(5), object(10)\n",
      "memory usage: 17.0+ MB\n"
     ]
    }
   ],
   "source": [
    "crimedata.info()"
   ]
  },
  {
   "cell_type": "code",
   "execution_count": 41,
   "id": "58bc7ba7",
   "metadata": {},
   "outputs": [
    {
     "data": {
      "text/plain": [
       "Unnamed: 0                 0\n",
       "index                      0\n",
       "ID                         0\n",
       "Case Number                0\n",
       "Date                       0\n",
       "Block                      0\n",
       "IUCR                       0\n",
       "Primary Type               0\n",
       "Description                0\n",
       "Location Description     447\n",
       "Arrest                     0\n",
       "Domestic                   0\n",
       "Beat                       0\n",
       "District                   0\n",
       "Ward                       3\n",
       "Community Area             0\n",
       "FBI Code                   0\n",
       "X Coordinate            1479\n",
       "Y Coordinate            1479\n",
       "Year                       0\n",
       "Updated On                 0\n",
       "Latitude                1479\n",
       "Longitude               1479\n",
       "Location                1479\n",
       "dtype: int64"
      ]
     },
     "execution_count": 41,
     "metadata": {},
     "output_type": "execute_result"
    }
   ],
   "source": [
    "crimedata.isnull().sum()"
   ]
  },
  {
   "cell_type": "code",
   "execution_count": 42,
   "id": "4a95f5ee",
   "metadata": {},
   "outputs": [
    {
     "data": {
      "text/plain": [
       "<AxesSubplot:>"
      ]
     },
     "execution_count": 42,
     "metadata": {},
     "output_type": "execute_result"
    },
    {
     "data": {
      "image/png": "[encoded data removed]",
      "text/plain": [
       "<Figure size 432x288 with 1 Axes>"
      ]
     },
     "metadata": {
      "needs_background": "light"
     },
     "output_type": "display_data"
    }
   ],
   "source": [
    "#Heatmap visualization for understanding the null values\n",
    "sns.heatmap(crimedata.isnull(), yticklabels=False,cbar=False,cmap = \"viridis\")\n"
   ]
  },
  {
   "cell_type": "code",
   "execution_count": 43,
   "id": "34759ef3",
   "metadata": {},
   "outputs": [],
   "source": [
    "#Cleaning the dataset\n",
    "final_df = crimedata.drop('index', axis=1)\n",
    "final_df.reset_index(inplace=True)\n",
    "final_df = final_df.drop('index', axis=1)\n"
   ]
  },
  {
   "cell_type": "code",
   "execution_count": 44,
   "id": "818d4b69",
   "metadata": {},
   "outputs": [],
   "source": [
    "#drop unnecessary columns\n",
    "df = final_df.drop(['ID', 'Case Number', 'Block','X Coordinate','Y Coordinate', 'Updated On', 'Latitude', 'Longitude', 'Unnamed: 0'], axis=1)\n",
    "df.to_csv('CrimeFinal.csv')\n"
   ]
  },
  {
   "cell_type": "code",
   "execution_count": 45,
   "id": "f4d67047",
   "metadata": {},
   "outputs": [],
   "source": [
    "#Checking duplicates\n",
    "dupli = df.duplicated().sum()\n",
    "df.loc[df.duplicated(), :]\n",
    "df.drop_duplicates(inplace=True)"
   ]
  },
  {
   "cell_type": "code",
   "execution_count": 46,
   "id": "27cac499",
   "metadata": {},
   "outputs": [
    {
     "data": {
      "text/plain": [
       "Date                       0\n",
       "IUCR                       0\n",
       "Primary Type               0\n",
       "Description                0\n",
       "Location Description     447\n",
       "Arrest                     0\n",
       "Domestic                   0\n",
       "Beat                       0\n",
       "District                   0\n",
       "Ward                       3\n",
       "Community Area             0\n",
       "FBI Code                   0\n",
       "Year                       0\n",
       "Location                1479\n",
       "dtype: int64"
      ]
     },
     "execution_count": 46,
     "metadata": {},
     "output_type": "execute_result"
    }
   ],
   "source": [
    "#Since location is two dimensional array, with the latitude and logitude as its x and y co-ordinates, we replace it with 0\n",
    "df.isnull().sum()"
   ]
  },
  {
   "cell_type": "raw",
   "id": "40f2c5f4",
   "metadata": {},
   "source": [
    "#Since location is two dimensional array and the null values are negligible, with the latitude and logitude as its x and y co-ordinates, we replace it with 0."
   ]
  },
  {
   "cell_type": "code",
   "execution_count": 47,
   "id": "54cded1d",
   "metadata": {},
   "outputs": [
    {
     "data": {
      "text/plain": [
       "Index(['Date', 'IUCR', 'Primary Type', 'Description', 'Location Description',\n",
       "       'Arrest', 'Domestic', 'Beat', 'District', 'Ward', 'Community Area',\n",
       "       'FBI Code', 'Year', 'Location'],\n",
       "      dtype='object')"
      ]
     },
     "execution_count": 47,
     "metadata": {},
     "output_type": "execute_result"
    }
   ],
   "source": [
    "df.columns"
   ]
  },
  {
   "cell_type": "code",
   "execution_count": 48,
   "id": "3830afbf",
   "metadata": {},
   "outputs": [],
   "source": [
    "df['Location'] = df['Location'].fillna(0)"
   ]
  },
  {
   "cell_type": "code",
   "execution_count": 50,
   "id": "46e60d4f",
   "metadata": {},
   "outputs": [
    {
     "data": {
      "text/plain": [
       "Date                      0\n",
       "IUCR                      0\n",
       "Primary Type              0\n",
       "Description               0\n",
       "Location Description    447\n",
       "Arrest                    0\n",
       "Domestic                  0\n",
       "Beat                      0\n",
       "District                  0\n",
       "Ward                      3\n",
       "Community Area            0\n",
       "FBI Code                  0\n",
       "Year                      0\n",
       "Location                  0\n",
       "dtype: int64"
      ]
     },
     "execution_count": 50,
     "metadata": {},
     "output_type": "execute_result"
    }
   ],
   "source": [
    "df.isnull().sum()"
   ]
  },
  {
   "cell_type": "code",
   "execution_count": 51,
   "id": "d6f470b2",
   "metadata": {},
   "outputs": [
    {
     "data": {
      "text/plain": [
       "STREET                               23629\n",
       "APARTMENT                            16546\n",
       "RESIDENCE                            16038\n",
       "SIDEWALK                              6897\n",
       "SMALL RETAIL STORE                    2670\n",
       "                                     ...  \n",
       "VEHICLE - COMMERCIAL: TROLLEY BUS        1\n",
       "CHA GROUNDS                              1\n",
       "HOSPITAL                                 1\n",
       "CHA LOBBY                                1\n",
       "GOVERNMENT BUILDING                      1\n",
       "Name: Location Description, Length: 160, dtype: int64"
      ]
     },
     "execution_count": 51,
     "metadata": {},
     "output_type": "execute_result"
    }
   ],
   "source": [
    "df['Location Description'].value_counts(ascending=False)"
   ]
  },
  {
   "cell_type": "raw",
   "id": "6a09a692",
   "metadata": {},
   "source": [
    "# Since the top most occurrence in Location Description is streets and there is big difference between the frequency of occurence between \"streets\" and rest of other places, the null values are filled with streets"
   ]
  },
  {
   "cell_type": "code",
   "execution_count": 52,
   "id": "1fb18bd2",
   "metadata": {},
   "outputs": [],
   "source": [
    "df['Location Description'] = df['Location Description'].fillna('STREET')"
   ]
  },
  {
   "cell_type": "code",
   "execution_count": 55,
   "id": "8bfdae01",
   "metadata": {},
   "outputs": [
    {
     "data": {
      "text/plain": [
       "Date                    0\n",
       "IUCR                    0\n",
       "Primary Type            0\n",
       "Description             0\n",
       "Location Description    0\n",
       "Arrest                  0\n",
       "Domestic                0\n",
       "Beat                    0\n",
       "District                0\n",
       "Ward                    3\n",
       "Community Area          0\n",
       "FBI Code                0\n",
       "Year                    0\n",
       "Location                0\n",
       "dtype: int64"
      ]
     },
     "execution_count": 55,
     "metadata": {},
     "output_type": "execute_result"
    }
   ],
   "source": [
    "df.isnull().sum()"
   ]
  },
  {
   "cell_type": "code",
   "execution_count": null,
   "id": "efb46da3",
   "metadata": {},
   "outputs": [],
   "source": [
    "#Preprocessing and understanding the relationship between multiple columns"
   ]
  },
  {
   "cell_type": "code",
   "execution_count": 61,
   "id": "bec62042",
   "metadata": {},
   "outputs": [],
   "source": [
    "df.Date = pd.to_datetime(df.Date)\n",
    "df['Month'] = pd.to_datetime(df.Date, format=\"%Y-%M-%D\")\n",
    "df['Month'] = df['Month'].dt.month_name()"
   ]
  },
  {
   "cell_type": "code",
   "execution_count": 62,
   "id": "206a0f17",
   "metadata": {},
   "outputs": [
    {
     "data": {
      "text/html": [
       "<div>\n",
       "<style scoped>\n",
       "    .dataframe tbody tr th:only-of-type {\n",
       "        vertical-align: middle;\n",
       "    }\n",
       "\n",
       "    .dataframe tbody tr th {\n",
       "        vertical-align: top;\n",
       "    }\n",
       "\n",
       "    .dataframe thead th {\n",
       "        text-align: right;\n",
       "    }\n",
       "</style>\n",
       "<table border=\"1\" class=\"dataframe\">\n",
       "  <thead>\n",
       "    <tr style=\"text-align: right;\">\n",
       "      <th></th>\n",
       "      <th>Arrest</th>\n",
       "      <th>Domestic</th>\n",
       "      <th>Beat</th>\n",
       "      <th>District</th>\n",
       "      <th>Ward</th>\n",
       "      <th>Community Area</th>\n",
       "      <th>Year</th>\n",
       "    </tr>\n",
       "  </thead>\n",
       "  <tbody>\n",
       "    <tr>\n",
       "      <th>Arrest</th>\n",
       "      <td>1.000000</td>\n",
       "      <td>-0.022196</td>\n",
       "      <td>-0.026014</td>\n",
       "      <td>-0.026141</td>\n",
       "      <td>-0.013369</td>\n",
       "      <td>0.021863</td>\n",
       "      <td>-0.097923</td>\n",
       "    </tr>\n",
       "    <tr>\n",
       "      <th>Domestic</th>\n",
       "      <td>-0.022196</td>\n",
       "      <td>1.000000</td>\n",
       "      <td>-0.062657</td>\n",
       "      <td>-0.062664</td>\n",
       "      <td>-0.086674</td>\n",
       "      <td>0.106154</td>\n",
       "      <td>0.037940</td>\n",
       "    </tr>\n",
       "    <tr>\n",
       "      <th>Beat</th>\n",
       "      <td>-0.026014</td>\n",
       "      <td>-0.062657</td>\n",
       "      <td>1.000000</td>\n",
       "      <td>0.999813</td>\n",
       "      <td>0.649366</td>\n",
       "      <td>-0.483842</td>\n",
       "      <td>0.012116</td>\n",
       "    </tr>\n",
       "    <tr>\n",
       "      <th>District</th>\n",
       "      <td>-0.026141</td>\n",
       "      <td>-0.062664</td>\n",
       "      <td>0.999813</td>\n",
       "      <td>1.000000</td>\n",
       "      <td>0.650441</td>\n",
       "      <td>-0.484277</td>\n",
       "      <td>0.012064</td>\n",
       "    </tr>\n",
       "    <tr>\n",
       "      <th>Ward</th>\n",
       "      <td>-0.013369</td>\n",
       "      <td>-0.086674</td>\n",
       "      <td>0.649366</td>\n",
       "      <td>0.650441</td>\n",
       "      <td>1.000000</td>\n",
       "      <td>-0.516855</td>\n",
       "      <td>-0.001295</td>\n",
       "    </tr>\n",
       "    <tr>\n",
       "      <th>Community Area</th>\n",
       "      <td>0.021863</td>\n",
       "      <td>0.106154</td>\n",
       "      <td>-0.483842</td>\n",
       "      <td>-0.484277</td>\n",
       "      <td>-0.516855</td>\n",
       "      <td>1.000000</td>\n",
       "      <td>-0.005148</td>\n",
       "    </tr>\n",
       "    <tr>\n",
       "      <th>Year</th>\n",
       "      <td>-0.097923</td>\n",
       "      <td>0.037940</td>\n",
       "      <td>0.012116</td>\n",
       "      <td>0.012064</td>\n",
       "      <td>-0.001295</td>\n",
       "      <td>-0.005148</td>\n",
       "      <td>1.000000</td>\n",
       "    </tr>\n",
       "  </tbody>\n",
       "</table>\n",
       "</div>"
      ],
      "text/plain": [
       "                  Arrest  Domestic      Beat  District      Ward  \\\n",
       "Arrest          1.000000 -0.022196 -0.026014 -0.026141 -0.013369   \n",
       "Domestic       -0.022196  1.000000 -0.062657 -0.062664 -0.086674   \n",
       "Beat           -0.026014 -0.062657  1.000000  0.999813  0.649366   \n",
       "District       -0.026141 -0.062664  0.999813  1.000000  0.650441   \n",
       "Ward           -0.013369 -0.086674  0.649366  0.650441  1.000000   \n",
       "Community Area  0.021863  0.106154 -0.483842 -0.484277 -0.516855   \n",
       "Year           -0.097923  0.037940  0.012116  0.012064 -0.001295   \n",
       "\n",
       "                Community Area      Year  \n",
       "Arrest                0.021863 -0.097923  \n",
       "Domestic              0.106154  0.037940  \n",
       "Beat                 -0.483842  0.012116  \n",
       "District             -0.484277  0.012064  \n",
       "Ward                 -0.516855 -0.001295  \n",
       "Community Area        1.000000 -0.005148  \n",
       "Year                 -0.005148  1.000000  "
      ]
     },
     "execution_count": 62,
     "metadata": {},
     "output_type": "execute_result"
    }
   ],
   "source": [
    "#correlation between various columns \n",
    "df.corr()"
   ]
  },
  {
   "cell_type": "code",
   "execution_count": 63,
   "id": "1ff9214b",
   "metadata": {},
   "outputs": [
    {
     "data": {
      "text/plain": [
       "Text(0.5, 1.0, 'Correlation Heatmap')"
      ]
     },
     "execution_count": 63,
     "metadata": {},
     "output_type": "execute_result"
    },
    {
     "data": {
      "image/png": "[encoded data removed]",
      "text/plain": [
       "<Figure size 1872x720 with 2 Axes>"
      ]
     },
     "metadata": {
      "needs_background": "light"
     },
     "output_type": "display_data"
    }
   ],
   "source": [
    "plt.figure(figsize=(26, 10))\n",
    "heatmap = sns.heatmap(df.corr(), vmin=-1, vmax=1, annot=True)\n",
    "heatmap.set_title('Correlation Heatmap', fontdict={'fontsize':12}, pad=12)"
   ]
  },
  {
   "cell_type": "raw",
   "id": "54448eb0",
   "metadata": {},
   "source": [
    "# Visualizations"
   ]
  },
  {
   "cell_type": "code",
   "execution_count": 64,
   "id": "6806f8ea",
   "metadata": {},
   "outputs": [
    {
     "data": {
      "text/html": [
       "<div>\n",
       "<style scoped>\n",
       "    .dataframe tbody tr th:only-of-type {\n",
       "        vertical-align: middle;\n",
       "    }\n",
       "\n",
       "    .dataframe tbody tr th {\n",
       "        vertical-align: top;\n",
       "    }\n",
       "\n",
       "    .dataframe thead th {\n",
       "        text-align: right;\n",
       "    }\n",
       "</style>\n",
       "<table border=\"1\" class=\"dataframe\">\n",
       "  <thead>\n",
       "    <tr style=\"text-align: right;\">\n",
       "      <th></th>\n",
       "      <th>Primary Type</th>\n",
       "      <th>pt counts</th>\n",
       "    </tr>\n",
       "  </thead>\n",
       "  <tbody>\n",
       "    <tr>\n",
       "      <th>0</th>\n",
       "      <td>THEFT</td>\n",
       "      <td>22435</td>\n",
       "    </tr>\n",
       "    <tr>\n",
       "      <th>1</th>\n",
       "      <td>BATTERY</td>\n",
       "      <td>19072</td>\n",
       "    </tr>\n",
       "    <tr>\n",
       "      <th>2</th>\n",
       "      <td>CRIMINAL DAMAGE</td>\n",
       "      <td>11036</td>\n",
       "    </tr>\n",
       "    <tr>\n",
       "      <th>3</th>\n",
       "      <td>ASSAULT</td>\n",
       "      <td>8461</td>\n",
       "    </tr>\n",
       "    <tr>\n",
       "      <th>4</th>\n",
       "      <td>DECEPTIVE PRACTICE</td>\n",
       "      <td>7398</td>\n",
       "    </tr>\n",
       "    <tr>\n",
       "      <th>5</th>\n",
       "      <td>OTHER OFFENSE</td>\n",
       "      <td>6308</td>\n",
       "    </tr>\n",
       "    <tr>\n",
       "      <th>6</th>\n",
       "      <td>MOTOR VEHICLE THEFT</td>\n",
       "      <td>4575</td>\n",
       "    </tr>\n",
       "    <tr>\n",
       "      <th>7</th>\n",
       "      <td>NARCOTICS</td>\n",
       "      <td>3974</td>\n",
       "    </tr>\n",
       "    <tr>\n",
       "      <th>8</th>\n",
       "      <td>BURGLARY</td>\n",
       "      <td>3715</td>\n",
       "    </tr>\n",
       "    <tr>\n",
       "      <th>9</th>\n",
       "      <td>ROBBERY</td>\n",
       "      <td>3654</td>\n",
       "    </tr>\n",
       "    <tr>\n",
       "      <th>10</th>\n",
       "      <td>WEAPONS VIOLATION</td>\n",
       "      <td>3194</td>\n",
       "    </tr>\n",
       "    <tr>\n",
       "      <th>11</th>\n",
       "      <td>CRIMINAL TRESPASS</td>\n",
       "      <td>2178</td>\n",
       "    </tr>\n",
       "    <tr>\n",
       "      <th>12</th>\n",
       "      <td>OFFENSE INVOLVING CHILDREN</td>\n",
       "      <td>883</td>\n",
       "    </tr>\n",
       "    <tr>\n",
       "      <th>13</th>\n",
       "      <td>SEX OFFENSE</td>\n",
       "      <td>531</td>\n",
       "    </tr>\n",
       "    <tr>\n",
       "      <th>14</th>\n",
       "      <td>PUBLIC PEACE VIOLATION</td>\n",
       "      <td>459</td>\n",
       "    </tr>\n",
       "    <tr>\n",
       "      <th>15</th>\n",
       "      <td>CRIMINAL SEXUAL ASSAULT</td>\n",
       "      <td>422</td>\n",
       "    </tr>\n",
       "    <tr>\n",
       "      <th>16</th>\n",
       "      <td>INTERFERENCE WITH PUBLIC OFFICER</td>\n",
       "      <td>365</td>\n",
       "    </tr>\n",
       "    <tr>\n",
       "      <th>17</th>\n",
       "      <td>HOMICIDE</td>\n",
       "      <td>284</td>\n",
       "    </tr>\n",
       "    <tr>\n",
       "      <th>18</th>\n",
       "      <td>ARSON</td>\n",
       "      <td>204</td>\n",
       "    </tr>\n",
       "    <tr>\n",
       "      <th>19</th>\n",
       "      <td>PROSTITUTION</td>\n",
       "      <td>192</td>\n",
       "    </tr>\n",
       "    <tr>\n",
       "      <th>20</th>\n",
       "      <td>CRIM SEXUAL ASSAULT</td>\n",
       "      <td>180</td>\n",
       "    </tr>\n",
       "    <tr>\n",
       "      <th>21</th>\n",
       "      <td>STALKING</td>\n",
       "      <td>119</td>\n",
       "    </tr>\n",
       "    <tr>\n",
       "      <th>22</th>\n",
       "      <td>CONCEALED CARRY LICENSE VIOLATION</td>\n",
       "      <td>85</td>\n",
       "    </tr>\n",
       "    <tr>\n",
       "      <th>23</th>\n",
       "      <td>LIQUOR LAW VIOLATION</td>\n",
       "      <td>84</td>\n",
       "    </tr>\n",
       "    <tr>\n",
       "      <th>24</th>\n",
       "      <td>INTIMIDATION</td>\n",
       "      <td>69</td>\n",
       "    </tr>\n",
       "    <tr>\n",
       "      <th>25</th>\n",
       "      <td>KIDNAPPING</td>\n",
       "      <td>57</td>\n",
       "    </tr>\n",
       "    <tr>\n",
       "      <th>26</th>\n",
       "      <td>GAMBLING</td>\n",
       "      <td>28</td>\n",
       "    </tr>\n",
       "    <tr>\n",
       "      <th>27</th>\n",
       "      <td>OBSCENITY</td>\n",
       "      <td>13</td>\n",
       "    </tr>\n",
       "    <tr>\n",
       "      <th>28</th>\n",
       "      <td>NON-CRIMINAL</td>\n",
       "      <td>7</td>\n",
       "    </tr>\n",
       "    <tr>\n",
       "      <th>29</th>\n",
       "      <td>HUMAN TRAFFICKING</td>\n",
       "      <td>4</td>\n",
       "    </tr>\n",
       "    <tr>\n",
       "      <th>30</th>\n",
       "      <td>OTHER NARCOTIC VIOLATION</td>\n",
       "      <td>1</td>\n",
       "    </tr>\n",
       "    <tr>\n",
       "      <th>31</th>\n",
       "      <td>PUBLIC INDECENCY</td>\n",
       "      <td>1</td>\n",
       "    </tr>\n",
       "  </tbody>\n",
       "</table>\n",
       "</div>"
      ],
      "text/plain": [
       "                         Primary Type  pt counts\n",
       "0                               THEFT      22435\n",
       "1                             BATTERY      19072\n",
       "2                     CRIMINAL DAMAGE      11036\n",
       "3                             ASSAULT       8461\n",
       "4                  DECEPTIVE PRACTICE       7398\n",
       "5                       OTHER OFFENSE       6308\n",
       "6                 MOTOR VEHICLE THEFT       4575\n",
       "7                           NARCOTICS       3974\n",
       "8                            BURGLARY       3715\n",
       "9                             ROBBERY       3654\n",
       "10                  WEAPONS VIOLATION       3194\n",
       "11                  CRIMINAL TRESPASS       2178\n",
       "12         OFFENSE INVOLVING CHILDREN        883\n",
       "13                        SEX OFFENSE        531\n",
       "14             PUBLIC PEACE VIOLATION        459\n",
       "15            CRIMINAL SEXUAL ASSAULT        422\n",
       "16   INTERFERENCE WITH PUBLIC OFFICER        365\n",
       "17                           HOMICIDE        284\n",
       "18                              ARSON        204\n",
       "19                       PROSTITUTION        192\n",
       "20                CRIM SEXUAL ASSAULT        180\n",
       "21                           STALKING        119\n",
       "22  CONCEALED CARRY LICENSE VIOLATION         85\n",
       "23               LIQUOR LAW VIOLATION         84\n",
       "24                       INTIMIDATION         69\n",
       "25                         KIDNAPPING         57\n",
       "26                           GAMBLING         28\n",
       "27                          OBSCENITY         13\n",
       "28                       NON-CRIMINAL          7\n",
       "29                  HUMAN TRAFFICKING          4\n",
       "30           OTHER NARCOTIC VIOLATION          1\n",
       "31                   PUBLIC INDECENCY          1"
      ]
     },
     "execution_count": 64,
     "metadata": {},
     "output_type": "execute_result"
    }
   ],
   "source": [
    "# Count of different primary type theft\n",
    "pt = df[['Primary Type']]\n",
    "crime_count = pd.DataFrame(pt.groupby('Primary Type').size().sort_values(ascending=False).rename('pt counts').reset_index())\n",
    "crime_count"
   ]
  },
  {
   "cell_type": "code",
   "execution_count": 66,
   "id": "8808332b",
   "metadata": {},
   "outputs": [
    {
     "data": {
      "image/png": "[encoded data removed]",
      "text/plain": [
       "<Figure size 432x1080 with 1 Axes>"
      ]
     },
     "metadata": {
      "needs_background": "light"
     },
     "output_type": "display_data"
    }
   ],
   "source": [
    "f, ax = plt.subplots(figsize=(6, 15))\n",
    "\n",
    "sns.set_color_codes(\"pastel\")\n",
    "sns.barplot(x=\"pt counts\", y=\"Primary Type\", data=crime_count.iloc[:10, :],\n",
    "            label=\"Total\", color=\"b\")\n",
    "\n",
    "ax.set(ylabel=\"Type of crime\", xlabel=\"Crimes\")\n",
    "\n",
    "plt.show()"
   ]
  },
  {
   "cell_type": "code",
   "execution_count": 67,
   "id": "56485725",
   "metadata": {},
   "outputs": [],
   "source": [
    "# Analyzing for which primary type more arrest has occured\n",
    "df2 = df.groupby('Primary Type')[['Arrest']].count().reset_index()\n",
    "df2 = df2.sort_values(by='Arrest').reset_index()\n",
    "df2 = df2.tail(10)"
   ]
  },
  {
   "cell_type": "code",
   "execution_count": 68,
   "id": "dd4f888a",
   "metadata": {},
   "outputs": [
    {
     "data": {
      "image/png": "[encoded data removed]",
      "text/plain": [
       "<Figure size 2160x504 with 1 Axes>"
      ]
     },
     "metadata": {
      "needs_background": "light"
     },
     "output_type": "display_data"
    }
   ],
   "source": [
    "f, ax = plt.subplots(figsize=(30, 7))\n",
    "\n",
    "sns.set_color_codes(\"pastel\")\n",
    "sns.barplot(x=\"Primary Type\", y=\"Arrest\", data=df2.iloc[:, :])\n",
    "           \n",
    "ax.set(ylabel=\"Arrest\", xlabel=\"Primary Type\")\n",
    "\n",
    "plt.show()"
   ]
  },
  {
   "cell_type": "code",
   "execution_count": 69,
   "id": "cd43e8ef",
   "metadata": {},
   "outputs": [
    {
     "data": {
      "image/png": "[encoded data removed]",
      "text/plain": [
       "<Figure size 432x288 with 1 Axes>"
      ]
     },
     "metadata": {},
     "output_type": "display_data"
    }
   ],
   "source": [
    "# To understand the percentage of arrest and not arrest\n",
    "df['Arrest'].value_counts().plot(kind=\"pie\", autopct=\"%.2f\")\n",
    "plt.show()"
   ]
  },
  {
   "cell_type": "code",
   "execution_count": 70,
   "id": "5e672c44",
   "metadata": {},
   "outputs": [
    {
     "data": {
      "text/html": [
       "<div>\n",
       "<style scoped>\n",
       "    .dataframe tbody tr th:only-of-type {\n",
       "        vertical-align: middle;\n",
       "    }\n",
       "\n",
       "    .dataframe tbody tr th {\n",
       "        vertical-align: top;\n",
       "    }\n",
       "\n",
       "    .dataframe thead th {\n",
       "        text-align: right;\n",
       "    }\n",
       "</style>\n",
       "<table border=\"1\" class=\"dataframe\">\n",
       "  <thead>\n",
       "    <tr style=\"text-align: right;\">\n",
       "      <th></th>\n",
       "      <th>index</th>\n",
       "      <th>District</th>\n",
       "      <th>Primary Type</th>\n",
       "    </tr>\n",
       "  </thead>\n",
       "  <tbody>\n",
       "    <tr>\n",
       "      <th>0</th>\n",
       "      <td>22</td>\n",
       "      <td>31.0</td>\n",
       "      <td>1</td>\n",
       "    </tr>\n",
       "    <tr>\n",
       "      <th>1</th>\n",
       "      <td>18</td>\n",
       "      <td>20.0</td>\n",
       "      <td>1908</td>\n",
       "    </tr>\n",
       "    <tr>\n",
       "      <th>2</th>\n",
       "      <td>15</td>\n",
       "      <td>17.0</td>\n",
       "      <td>2688</td>\n",
       "    </tr>\n",
       "    <tr>\n",
       "      <th>3</th>\n",
       "      <td>20</td>\n",
       "      <td>24.0</td>\n",
       "      <td>3285</td>\n",
       "    </tr>\n",
       "    <tr>\n",
       "      <th>4</th>\n",
       "      <td>19</td>\n",
       "      <td>22.0</td>\n",
       "      <td>3297</td>\n",
       "    </tr>\n",
       "    <tr>\n",
       "      <th>5</th>\n",
       "      <td>12</td>\n",
       "      <td>14.0</td>\n",
       "      <td>3373</td>\n",
       "    </tr>\n",
       "    <tr>\n",
       "      <th>6</th>\n",
       "      <td>14</td>\n",
       "      <td>16.0</td>\n",
       "      <td>3463</td>\n",
       "    </tr>\n",
       "    <tr>\n",
       "      <th>7</th>\n",
       "      <td>13</td>\n",
       "      <td>15.0</td>\n",
       "      <td>3937</td>\n",
       "    </tr>\n",
       "    <tr>\n",
       "      <th>8</th>\n",
       "      <td>8</td>\n",
       "      <td>9.0</td>\n",
       "      <td>4254</td>\n",
       "    </tr>\n",
       "    <tr>\n",
       "      <th>9</th>\n",
       "      <td>1</td>\n",
       "      <td>2.0</td>\n",
       "      <td>4515</td>\n",
       "    </tr>\n",
       "    <tr>\n",
       "      <th>10</th>\n",
       "      <td>4</td>\n",
       "      <td>5.0</td>\n",
       "      <td>4534</td>\n",
       "    </tr>\n",
       "    <tr>\n",
       "      <th>11</th>\n",
       "      <td>9</td>\n",
       "      <td>10.0</td>\n",
       "      <td>4558</td>\n",
       "    </tr>\n",
       "    <tr>\n",
       "      <th>12</th>\n",
       "      <td>17</td>\n",
       "      <td>19.0</td>\n",
       "      <td>4761</td>\n",
       "    </tr>\n",
       "    <tr>\n",
       "      <th>13</th>\n",
       "      <td>2</td>\n",
       "      <td>3.0</td>\n",
       "      <td>4857</td>\n",
       "    </tr>\n",
       "    <tr>\n",
       "      <th>14</th>\n",
       "      <td>21</td>\n",
       "      <td>25.0</td>\n",
       "      <td>4969</td>\n",
       "    </tr>\n",
       "    <tr>\n",
       "      <th>15</th>\n",
       "      <td>0</td>\n",
       "      <td>1.0</td>\n",
       "      <td>5126</td>\n",
       "    </tr>\n",
       "    <tr>\n",
       "      <th>16</th>\n",
       "      <td>6</td>\n",
       "      <td>7.0</td>\n",
       "      <td>5127</td>\n",
       "    </tr>\n",
       "    <tr>\n",
       "      <th>17</th>\n",
       "      <td>11</td>\n",
       "      <td>12.0</td>\n",
       "      <td>5230</td>\n",
       "    </tr>\n",
       "    <tr>\n",
       "      <th>18</th>\n",
       "      <td>16</td>\n",
       "      <td>18.0</td>\n",
       "      <td>5317</td>\n",
       "    </tr>\n",
       "    <tr>\n",
       "      <th>19</th>\n",
       "      <td>3</td>\n",
       "      <td>4.0</td>\n",
       "      <td>5632</td>\n",
       "    </tr>\n",
       "    <tr>\n",
       "      <th>20</th>\n",
       "      <td>7</td>\n",
       "      <td>8.0</td>\n",
       "      <td>6047</td>\n",
       "    </tr>\n",
       "    <tr>\n",
       "      <th>21</th>\n",
       "      <td>5</td>\n",
       "      <td>6.0</td>\n",
       "      <td>6333</td>\n",
       "    </tr>\n",
       "    <tr>\n",
       "      <th>22</th>\n",
       "      <td>10</td>\n",
       "      <td>11.0</td>\n",
       "      <td>6776</td>\n",
       "    </tr>\n",
       "  </tbody>\n",
       "</table>\n",
       "</div>"
      ],
      "text/plain": [
       "    index  District  Primary Type\n",
       "0      22      31.0             1\n",
       "1      18      20.0          1908\n",
       "2      15      17.0          2688\n",
       "3      20      24.0          3285\n",
       "4      19      22.0          3297\n",
       "5      12      14.0          3373\n",
       "6      14      16.0          3463\n",
       "7      13      15.0          3937\n",
       "8       8       9.0          4254\n",
       "9       1       2.0          4515\n",
       "10      4       5.0          4534\n",
       "11      9      10.0          4558\n",
       "12     17      19.0          4761\n",
       "13      2       3.0          4857\n",
       "14     21      25.0          4969\n",
       "15      0       1.0          5126\n",
       "16      6       7.0          5127\n",
       "17     11      12.0          5230\n",
       "18     16      18.0          5317\n",
       "19      3       4.0          5632\n",
       "20      7       8.0          6047\n",
       "21      5       6.0          6333\n",
       "22     10      11.0          6776"
      ]
     },
     "execution_count": 70,
     "metadata": {},
     "output_type": "execute_result"
    }
   ],
   "source": [
    "#Grouping the primary type based on different districts to see the crime occurred across all districts\n",
    "new_df = df.groupby('District')[['Primary Type']].count().reset_index()\n",
    "new_df = new_df.sort_values(by='Primary Type').reset_index()\n",
    "\n",
    "new_df"
   ]
  },
  {
   "cell_type": "code",
   "execution_count": 71,
   "id": "c8c46d97",
   "metadata": {},
   "outputs": [
    {
     "data": {
      "image/png": "[encoded data removed]",
      "text/plain": [
       "<Figure size 720x504 with 1 Axes>"
      ]
     },
     "metadata": {
      "needs_background": "light"
     },
     "output_type": "display_data"
    }
   ],
   "source": [
    "f, ax = plt.subplots(figsize=(10, 7))\n",
    "\n",
    "sns.lineplot(data=new_df, x=\"District\", y=\"Primary Type\")\n",
    "\n",
    "plt.title('Number of Crimes across different districts')\n",
    "\n",
    "plt.show()"
   ]
  },
  {
   "cell_type": "code",
   "execution_count": 72,
   "id": "4fcfb7ea",
   "metadata": {},
   "outputs": [
    {
     "data": {
      "image/png": "[encoded data removed]",
      "text/plain": [
       "<Figure size 800x560 with 1 Axes>"
      ]
     },
     "metadata": {},
     "output_type": "display_data"
    }
   ],
   "source": [
    "plt.style.use('ggplot')\n",
    "plt.figure(figsize=(10, 7), dpi=80)\n",
    "final_df.groupby([df.Year]).size().plot(kind='barh', color='green')\n",
    "\n",
    "plt.ylabel('Year')\n",
    "plt.xlabel('Number of crimes')\n",
    "plt.title('Number of crimes by year')\n",
    "plt.show()"
   ]
  },
  {
   "cell_type": "code",
   "execution_count": 73,
   "id": "9b2c0524",
   "metadata": {},
   "outputs": [
    {
     "data": {
      "image/png": "[encoded data removed]",
      "text/plain": [
       "<Figure size 800x560 with 1 Axes>"
      ]
     },
     "metadata": {},
     "output_type": "display_data"
    }
   ],
   "source": [
    "import matplotlib.pyplot as plt\n",
    "plt.style.use('ggplot')\n",
    "plt.figure(figsize=(10, 7), dpi=80)\n",
    "final_df.groupby([df.Month]).size().plot(kind='barh', color='green')\n",
    "\n",
    "plt.ylabel('Month')\n",
    "plt.xlabel('Number of crimes')\n",
    "plt.title('Number of crimes by Month')\n",
    "plt.show()"
   ]
  },
  {
   "cell_type": "code",
   "execution_count": 53,
   "id": "af9c11f4",
   "metadata": {},
   "outputs": [
    {
     "data": {
      "text/plain": [
       "IUCR  Primary Type\n",
       "0486  BATTERY         9159\n",
       "0820  THEFT           8639\n",
       "0810  THEFT           6209\n",
       "0460  BATTERY         5930\n",
       "0560  ASSAULT         5519\n",
       "dtype: int64"
      ]
     },
     "execution_count": 53,
     "metadata": {},
     "output_type": "execute_result"
    }
   ],
   "source": [
    "# Crime data with IUCR and primary type with top most 5 Primary type theft happening in IUCR code\n",
    "IUCR_df = crimedata[['IUCR','Primary Type']].value_counts().head(5)\n",
    "IUCR_df"
   ]
  },
  {
   "cell_type": "code",
   "execution_count": 12,
   "id": "62f78395",
   "metadata": {},
   "outputs": [
    {
     "data": {
      "image/png": "[encoded data removed]",
      "text/plain": [
       "<Figure size 432x288 with 1 Axes>"
      ]
     },
     "metadata": {},
     "output_type": "display_data"
    }
   ],
   "source": [
    "IUCR_df.plot(kind=\"pie\", autopct=\"%.2f\")\n",
    "plt.show()"
   ]
  },
  {
   "cell_type": "code",
   "execution_count": null,
   "id": "da37ee4d",
   "metadata": {},
   "outputs": [],
   "source": []
  },
  {
   "cell_type": "code",
   "execution_count": null,
   "id": "7966924b",
   "metadata": {},
   "outputs": [],
   "source": []
  }
 ],
 "metadata": {
  "kernelspec": {
   "display_name": "conda_python3",
   "language": "python",
   "name": "conda_python3"
  },
  "language_info": {
   "codemirror_mode": {
    "name": "ipython",
    "version": 3
   },
   "file_extension": ".py",
   "mimetype": "text/x-python",
   "name": "python",
   "nbconvert_exporter": "python",
   "pygments_lexer": "ipython3",
   "version": "3.8.12"
  }
 },
 "nbformat": 4,
 "nbformat_minor": 5
}
